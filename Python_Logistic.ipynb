{
  "nbformat": 4,
  "nbformat_minor": 0,
  "metadata": {
    "colab": {
      "name": "Python-Logistic.ipynb",
      "provenance": [],
      "mount_file_id": "1T5BXWDnGQAuUJjCLLGFDlXVjdODGHcmx",
      "authorship_tag": "ABX9TyMneSyUVzBGylKzcvczKuZM",
      "include_colab_link": true
    },
    "kernelspec": {
      "name": "python3",
      "display_name": "Python 3"
    }
  },
  "cells": [
    {
      "cell_type": "markdown",
      "metadata": {
        "id": "view-in-github",
        "colab_type": "text"
      },
      "source": [
        "<a href=\"https://colab.research.google.com/github/shuwang127/Python-Logistic/blob/master/Python_Logistic.ipynb\" target=\"_parent\"><img src=\"https://colab.research.google.com/assets/colab-badge.svg\" alt=\"Open In Colab\"/></a>"
      ]
    },
    {
      "cell_type": "markdown",
      "metadata": {
        "id": "Zyc8y4TELzBL",
        "colab_type": "text"
      },
      "source": [
        "Read data from .txt file."
      ]
    },
    {
      "cell_type": "code",
      "metadata": {
        "id": "hbbEKG_lsKrl",
        "colab_type": "code",
        "colab": {
          "base_uri": "https://localhost:8080/",
          "height": 153
        },
        "outputId": "2d468ec0-351f-4f53-9eb4-dba135515324"
      },
      "source": [
        "import numpy as np\n",
        "f = open('./drive/My Drive/Colab Notebooks/Student-Pass-Fail-Data.txt', 'r')\n",
        "next(f) # skip the first row.\n",
        "data = np.array([[int(num) for num in line.split(',')] for line in f])\n",
        "print('data:\\n', data)"
      ],
      "execution_count": 24,
      "outputs": [
        {
          "output_type": "stream",
          "text": [
            "data:\n",
            " [[ 7 27  1]\n",
            " [ 2 43  0]\n",
            " [ 7 26  1]\n",
            " ...\n",
            " [ 3 39  0]\n",
            " [ 7 25  1]\n",
            " [ 5 37  0]]\n"
          ],
          "name": "stdout"
        }
      ]
    },
    {
      "cell_type": "markdown",
      "metadata": {
        "id": "jTMTEuduNDDR",
        "colab_type": "text"
      },
      "source": [
        "Divide data into features (Self_Study_Daily, Tuition_Monthly) and labels (Pass_Or_Fail)."
      ]
    },
    {
      "cell_type": "code",
      "metadata": {
        "id": "fKredOxTNGb7",
        "colab_type": "code",
        "colab": {
          "base_uri": "https://localhost:8080/",
          "height": 646
        },
        "outputId": "8e58f7e3-a170-447e-c172-712de285614c"
      },
      "source": [
        "x = data[:,:-1]\n",
        "y = data[:,-1]\n",
        "print('x:\\n', x, '\\ny:\\n', y)"
      ],
      "execution_count": 25,
      "outputs": [
        {
          "output_type": "stream",
          "text": [
            "x:\n",
            " [[ 7 27]\n",
            " [ 2 43]\n",
            " [ 7 26]\n",
            " ...\n",
            " [ 3 39]\n",
            " [ 7 25]\n",
            " [ 5 37]] \n",
            "y:\n",
            " [1 0 1 1 0 0 0 1 1 0 0 1 1 0 1 0 0 0 1 0 0 1 0 0 0 0 1 0 1 1 0 0 1 1 1 1 0\n",
            " 1 1 1 0 1 1 0 0 1 1 0 1 0 0 0 1 1 1 0 1 0 1 0 1 1 1 0 0 1 0 1 0 0 1 1 0 1\n",
            " 0 1 0 0 0 0 1 0 1 1 0 0 0 1 0 1 0 0 0 0 1 1 1 1 0 1 1 1 1 1 1 0 1 0 0 0 0\n",
            " 0 1 0 1 1 1 0 0 0 0 1 0 0 1 1 1 0 1 0 0 1 0 0 0 1 1 0 0 0 0 1 0 1 1 0 0 0\n",
            " 1 1 0 1 1 1 1 1 1 0 0 1 1 0 0 0 0 1 1 0 0 1 1 1 1 0 1 0 0 1 0 1 1 0 0 0 1\n",
            " 1 0 0 0 0 0 1 0 0 1 0 0 0 1 1 0 1 0 0 0 0 0 1 0 1 1 0 0 1 0 1 1 1 0 0 0 1\n",
            " 1 0 0 1 1 0 1 0 0 1 1 1 0 0 1 1 0 1 1 0 1 1 0 1 1 1 0 1 0 1 1 0 1 0 0 0 1\n",
            " 1 0 0 1 1 1 0 1 1 1 1 0 1 1 0 0 0 1 0 0 1 1 1 1 0 1 1 0 1 1 0 1 0 0 1 0 1\n",
            " 0 0 1 1 1 0 0 1 1 0 1 1 1 1 0 0 1 1 1 0 1 1 1 0 1 0 1 0 0 1 0 0 0 1 0 1 1\n",
            " 0 1 0 1 0 0 1 1 1 0 1 0 1 1 0 0 0 0 1 0 1 1 1 1 1 0 0 0 0 0 1 0 1 0 1 1 1\n",
            " 0 1 1 1 0 0 0 1 1 1 1 1 0 1 1 0 1 0 1 0 0 0 0 1 1 1 1 0 0 1 1 1 0 0 1 1 1\n",
            " 0 0 1 0 1 1 1 1 1 1 0 0 0 1 0 0 0 1 0 1 0 0 0 0 1 0 0 1 0 1 0 1 0 0 1 1 1\n",
            " 1 0 0 0 1 1 1 0 0 1 0 1 0 0 0 0 1 1 0 0 1 0 1 0 1 0 1 0 1 1 1 1 1 0 0 1 0\n",
            " 1 0 0 1 0 1 1 1 1 0 0 0 1 0 1 1 1 0 0 0 0 0 1 1 1 1 0 0 1 0 1 1 0 1 0 1 0\n",
            " 1 1 1 0 1 1 0 0 1 0 0 0 1 0 1 1 1 0 1 0 0 1 1 0 0 0 0 1 0 0 1 0 1 1 1 0 1\n",
            " 0 0 1 0 1 1 0 0 1 1 0 1 0 1 0 0 1 1 1 0 1 1 1 1 0 0 0 0 1 1 0 0 0 1 1 0 1\n",
            " 0 0 0 1 0 0 0 1 1 0 1 0 0 0 1 0 0 0 1 1 0 0 1 1 0 1 0 0 1 1 0 0 0 1 0 1 0\n",
            " 0 0 0 1 0 0 1 0 0 1 0 0 0 1 0 1 1 0 1 0 1 1 0 0 1 1 1 0 0 1 1 0 0 0 0 0 0\n",
            " 1 0 0 1 1 0 0 0 0 0 1 0 1 1 0 0 0 1 1 0 1 0 1 0 0 0 1 1 1 0 0 1 1 0 0 1 1\n",
            " 1 1 1 1 1 1 1 1 1 0 1 0 1 0 0 1 0 1 1 1 1 0 1 1 1 0 0 1 0 1 0 1 0 1 0 0 0\n",
            " 1 1 0 0 0 1 1 1 1 0 1 0 0 1 0 0 1 1 0 0 0 0 0 1 1 1 0 0 0 0 0 1 0 0 0 0 0\n",
            " 1 1 1 0 0 1 1 0 0 1 1 1 0 0 0 0 0 1 1 1 0 0 0 0 1 1 1 1 1 1 1 1 1 0 1 1 1\n",
            " 1 0 0 0 1 1 1 0 0 0 0 1 0 0 1 1 1 0 0 0 1 1 0 1 0 0 1 1 1 0 0 0 1 0 1 1 1\n",
            " 0 1 1 1 1 1 0 0 1 0 0 0 0 1 0 0 0 0 1 1 0 0 0 0 0 1 0 1 1 1 1 0 1 1 1 0 0\n",
            " 1 0 1 0 0 0 0 1 0 1 0 0 0 1 1 0 1 0 1 1 1 1 1 0 0 0 1 1 0 1 0 1 0 0 0 1 0\n",
            " 1 0 1 0 1 0 0 1 1 1 1 1 1 1 1 1 0 0 1 1 0 0 0 1 0 1 0 0 1 0 0 0 0 1 0 1 1\n",
            " 0 1 1 1 0 1 1 1 1 0 0 1 0 1 0 1 0 1 1 0 1 0 0 0 1 0 0 1 0 0 1 0 1 1 1 0 1\n",
            " 0]\n"
          ],
          "name": "stdout"
        }
      ]
    },
    {
      "cell_type": "markdown",
      "metadata": {
        "id": "cdApLeQlOkPU",
        "colab_type": "text"
      },
      "source": [
        "Split the data into train and test sets."
      ]
    },
    {
      "cell_type": "code",
      "metadata": {
        "id": "7ncDF11sOnfD",
        "colab_type": "code",
        "colab": {}
      },
      "source": [
        "from sklearn.model_selection import train_test_split\n",
        "x_train, x_test, y_train, y_test = train_test_split(x, y, test_size = 0.2)"
      ],
      "execution_count": 26,
      "outputs": []
    },
    {
      "cell_type": "markdown",
      "metadata": {
        "id": "rY-WXcp8PmDn",
        "colab_type": "text"
      },
      "source": [
        "Define the LR model."
      ]
    },
    {
      "cell_type": "code",
      "metadata": {
        "id": "Wg1BNtmLPov0",
        "colab_type": "code",
        "colab": {}
      },
      "source": [
        "from sklearn.linear_model import LogisticRegression\n",
        "logistic_regression = LogisticRegression()"
      ],
      "execution_count": 27,
      "outputs": []
    },
    {
      "cell_type": "markdown",
      "metadata": {
        "id": "YxdN1Q0HP41j",
        "colab_type": "text"
      },
      "source": [
        "Fit the training data with LR model. (take two parameters: x_train and y_train)"
      ]
    },
    {
      "cell_type": "code",
      "metadata": {
        "id": "P2ATkxUEPzU0",
        "colab_type": "code",
        "colab": {
          "base_uri": "https://localhost:8080/",
          "height": 102
        },
        "outputId": "e9ce859b-aff5-4bf8-f602-86157c7db39c"
      },
      "source": [
        "logistic_regression.fit(x_train, y_train)"
      ],
      "execution_count": 28,
      "outputs": [
        {
          "output_type": "execute_result",
          "data": {
            "text/plain": [
              "LogisticRegression(C=1.0, class_weight=None, dual=False, fit_intercept=True,\n",
              "                   intercept_scaling=1, l1_ratio=None, max_iter=100,\n",
              "                   multi_class='auto', n_jobs=None, penalty='l2',\n",
              "                   random_state=None, solver='lbfgs', tol=0.0001, verbose=0,\n",
              "                   warm_start=False)"
            ]
          },
          "metadata": {
            "tags": []
          },
          "execution_count": 28
        }
      ]
    },
    {
      "cell_type": "markdown",
      "metadata": {
        "id": "vHd1XOIxQEZ7",
        "colab_type": "text"
      },
      "source": [
        "Get predictions for testing data."
      ]
    },
    {
      "cell_type": "code",
      "metadata": {
        "id": "u-ce_0xxQHkj",
        "colab_type": "code",
        "colab": {
          "base_uri": "https://localhost:8080/",
          "height": 119
        },
        "outputId": "21879599-213b-4f20-a02c-a62775d2239e"
      },
      "source": [
        "y_pred = logistic_regression.predict(x_test)\n",
        "print(y_pred)"
      ],
      "execution_count": 29,
      "outputs": [
        {
          "output_type": "stream",
          "text": [
            "[0 1 1 1 0 1 0 1 0 1 0 1 1 0 1 0 0 0 1 0 1 0 1 1 1 0 0 0 1 1 1 1 1 1 1 1 0\n",
            " 1 0 1 0 0 1 0 0 1 1 0 0 1 1 1 0 0 1 1 0 0 0 1 1 1 0 0 0 0 1 1 1 1 0 1 0 0\n",
            " 1 1 1 1 1 1 1 0 0 1 0 1 0 0 0 1 0 1 0 0 0 0 0 0 1 1 0 0 0 1 1 0 1 1 1 0 1\n",
            " 1 0 1 0 0 1 1 1 0 1 0 0 0 0 1 0 0 0 1 1 1 0 0 1 1 0 1 1 1 0 0 1 0 1 1 0 0\n",
            " 0 0 1 1 0 0 0 0 0 1 1 1 1 0 0 0 1 0 1 1 0 1 0 0 0 1 0 0 1 1 1 1 0 1 1 1 0\n",
            " 1 0 0 0 1 0 1 0 1 1 1 1 0 0 1]\n"
          ],
          "name": "stdout"
        }
      ]
    },
    {
      "cell_type": "markdown",
      "metadata": {
        "id": "u8a695yMQPKb",
        "colab_type": "text"
      },
      "source": [
        "Calculate the testing accuracy with actual labels and predicted labels."
      ]
    },
    {
      "cell_type": "code",
      "metadata": {
        "id": "1qBGVQjNQTzB",
        "colab_type": "code",
        "colab": {
          "base_uri": "https://localhost:8080/",
          "height": 34
        },
        "outputId": "1cb99ed7-67b8-4bd3-d914-d6053017c5d4"
      },
      "source": [
        "from sklearn import metrics\n",
        "accuracy = metrics.accuracy_score(y_test, y_pred)\n",
        "print('Testing accuracy = %.2f%%.' % (accuracy * 100))"
      ],
      "execution_count": 30,
      "outputs": [
        {
          "output_type": "stream",
          "text": [
            "Testing accuracy = 97.50%.\n"
          ],
          "name": "stdout"
        }
      ]
    },
    {
      "cell_type": "markdown",
      "metadata": {
        "id": "ZD9OAYJjQwz1",
        "colab_type": "text"
      },
      "source": [
        "Plot the decision boundary visually."
      ]
    },
    {
      "cell_type": "code",
      "metadata": {
        "id": "NMm2pj8iQyqs",
        "colab_type": "code",
        "colab": {
          "base_uri": "https://localhost:8080/",
          "height": 265
        },
        "outputId": "d1c5e7dc-7aec-43f0-8072-5bfc2bebffec"
      },
      "source": [
        "import matplotlib.pyplot as plt\n",
        "from matplotlib.colors import ListedColormap\n",
        "x1, x2 = np.meshgrid(np.arange(min(x[:,0])-1, max(x[:,0])+1, 0.02), np.arange(min(x[:,1])-1, max(x[:,1])+1, 0.02)) # mesh.\n",
        "Z = logistic_regression.predict(np.array([x1.ravel(), x2.ravel()]).T).reshape(x1.shape) # get predictions for mesh.\n",
        "plt.contourf(x1, x2, Z, alpha=0.3, cmap=ListedColormap(('red', 'green'))) # plot decision boundary.\n",
        "for cls in range(2):\n",
        "    plt.scatter(x=x_train[y_train==cls, 0], y=x_train[y_train==cls, 1], alpha=0.5, c=('red', 'green')[cls], marker=('x', '^')[cls], label=cls) # plot training set.\n",
        "    plt.scatter(x=x_test[y_test == cls, 0], y=x_test[y_test == cls, 1], alpha=0.8, c=('red', 'green')[cls], marker=('o', 's')[cls], label=cls) # plot testing set.\n",
        "plt.show()"
      ],
      "execution_count": 31,
      "outputs": [
        {
          "output_type": "display_data",
          "data": {
            "image/png": "[encoded data removed]",
            "text/plain": [
              "<Figure size 432x288 with 1 Axes>"
            ]
          },
          "metadata": {
            "tags": [],
            "needs_background": "light"
          }
        }
      ]
    }
  ]
}